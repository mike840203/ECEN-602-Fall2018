{
 "cells": [
  {
   "cell_type": "code",
   "execution_count": 9,
   "metadata": {},
   "outputs": [
    {
     "name": "stdout",
     "output_type": "stream",
     "text": [
      "IPv4 and IPv6 address by given url\n",
      "\n",
      "www.ietf.org IPv4 address : 104.20.1.85 , 104.20.0.85 \n",
      "www.ietf.org IPv6 address : 2400:cb00:2048:1::6814:55 , 2400:cb00:2048:1::6814:155 \n",
      "\n",
      "www.arin.net IPv4 address : 199.43.0.43 , 199.43.0.44 \n",
      "www.arin.net IPv6 address : 2001:500:4:c000::44 , 2001:500:4:c000::43 \n",
      "\n",
      "www.caida.org IPv4 address : 192.172.226.123 \n",
      "www.caida.org IPv6 address : 2001:48d0:101:501::123 \n",
      "\n"
     ]
    }
   ],
   "source": [
    "import socket\n",
    "url = [\"www.ietf.org\",\"www.arin.net\",\"www.caida.org\"]\n",
    "print \"IPv4 and IPv6 address by given url\\n\"\n",
    "for i in range(len(url)) :\n",
    "    ipv4 = socket.getaddrinfo(url[i], 80, socket.AF_INET, socket.SOCK_STREAM)\n",
    "    ipv6 = socket.getaddrinfo(url[i], 80, socket.AF_INET6, socket.SOCK_STREAM)\n",
    "    temp4 = \"\"\n",
    "    temp6 = \"\"\n",
    "    for j in range(len(ipv4)) :\n",
    "        if j == len(ipv4) - 1 :\n",
    "            comman = \" \"\n",
    "        else : \n",
    "            comman = \" , \"\n",
    "        temp4 = temp4 + ipv4[j][4][0] + comman\n",
    "        temp6 = temp6 + ipv6[j][4][0] + comman\n",
    "    print url[i] + \" IPv4 address : \" + temp4\n",
    "    print url[i] + \" IPv6 address : \" + temp6 + \"\\n\""
   ]
  },
  {
   "cell_type": "code",
   "execution_count": 1,
   "metadata": {},
   "outputs": [
    {
     "name": "stdout",
     "output_type": "stream",
     "text": [
      "Maximum and average(100 tests) Round Trip Time\n",
      "\n",
      "For website : www.tamu.edu \n",
      "Maximum Round Trip Time : 0.0789999962\n",
      "Average Round Trip Time : 0.06740000248\n",
      "\n",
      "For website : www.rice.edu \n",
      "Maximum Round Trip Time : 0.1130001545\n",
      "Average Round Trip Time : 0.09709999562\n",
      "\n",
      "For website : www.ucla.edu \n",
      "Maximum Round Trip Time : 0.1330001354\n",
      "Average Round Trip Time : 0.12650001049\n",
      "\n",
      "For website : www.gatech.edu \n",
      "Maximum Round Trip Time : 0.4460000992\n",
      "Average Round Trip Time : 0.36840000153\n",
      "\n",
      "For website : www.unam.mx \n",
      "Maximum Round Trip Time : 0.3399999142\n",
      "Average Round Trip Time : 0.3240999937\n",
      "\n",
      "For website : www.uh.cu \n",
      "Maximum Round Trip Time : 0.3159999847\n",
      "Average Round Trip Time : 0.2969000101\n",
      "\n",
      "For website : www.usp.br \n",
      "Maximum Round Trip Time : 0.3430001736\n",
      "Average Round Trip Time : 0.31719999314\n",
      "\n",
      "For website : www.iitd.ac.in \n",
      "Maximum Round Trip Time : 1.5650000572\n",
      "Average Round Trip Time : 1.41630001068\n",
      "\n",
      "For website : www.kaist.edu \n",
      "Maximum Round Trip Time : 0.3659999371\n",
      "Average Round Trip Time : 0.36210000516\n",
      "\n",
      "For website : www.tsinghua.edu.cn \n",
      "Maximum Round Trip Time : 0.4019999504\n",
      "Average Round Trip Time : 0.39790000914\n",
      "\n",
      "For website : www.telecom-paristech.fr \n",
      "Maximum Round Trip Time : 2.5350000858\n",
      "Average Round Trip Time : 2.4640999794\n",
      "\n",
      "For website : www.ukzn.ac.za \n",
      "Maximum Round Trip Time : 3.4219999313\n",
      "Average Round Trip Time : 3.11470000743\n",
      "\n"
     ]
    }
   ],
   "source": [
    "import time as tm\n",
    "import requests\n",
    "def RRTf(url) :\n",
    "    url = \"http://\" + url\n",
    "    t1 = tm.time()\n",
    "    r = requests.get(url)\n",
    "    t2 = tm.time()\n",
    "    time = str(round(t2-t1,10))\n",
    "    return float(time)\n",
    "    print(\"Time in seconds :\" + time)\n",
    "RRT = [\"www.tamu.edu\", \"www.rice.edu\", \"www.ucla.edu\", \"www.gatech.edu\", \"www.unam.mx\", \"www.uh.cu\", \"www.usp.br\", \"www.iitd.ac.in\", \"www.kaist.edu\", \"www.tsinghua.edu.cn\", \"www.telecom-paristech.fr\", \"www.ukzn.ac.za\"]\n",
    "testsize = 10\n",
    "print \"Maximum and average(100 tests) Round Trip Time\\n\"\n",
    "for i in range(len(RRT)) :\n",
    "    max_RRT = float(0)\n",
    "    avg_RRT = float(0)\n",
    "    \n",
    "    for j in range(testsize) :\n",
    "        temp = RRTf(RRT[i])\n",
    "        if temp > max_RRT :\n",
    "            max_RRT = temp\n",
    "        avg_RRT += temp\n",
    "    print \"For website : %s \" % RRT[i]\n",
    "    print \"Maximum Round Trip Time : \" + str(max_RRT)\n",
    "    print \"Average Round Trip Time : \" + str(avg_RRT/testsize) + \"\\n\""
   ]
  },
  {
   "cell_type": "code",
   "execution_count": 5,
   "metadata": {},
   "outputs": [
    {
     "name": "stdout",
     "output_type": "stream",
     "text": [
      "tracert www.tamu.edu > Desktop\\www.tamu.edu.txt\n",
      "tracert www.rice.edu > Desktop\\www.rice.edu.txt\n",
      "tracert www.ucla.edu > Desktop\\www.ucla.edu.txt\n",
      "tracert www.gatech.edu > Desktop\\www.gatech.edu.txt\n",
      "tracert www.unam.mx > Desktop\\www.unam.mx.txt\n",
      "tracert www.uh.cu > Desktop\\www.uh.cu.txt\n",
      "tracert www.usp.br > Desktop\\www.usp.br.txt\n",
      "tracert www.iitd.ac.in > Desktop\\www.iitd.ac.in.txt\n",
      "tracert www.kaist.edu > Desktop\\www.kaist.edu.txt\n",
      "tracert www.tsinghua.edu.cn > Desktop\\www.tsinghua.edu.cn.txt\n",
      "tracert www.telecom-paristech.fr > Desktop\\www.telecom-paristech.fr.txt\n",
      "tracert www.ukzn.ac.za > Desktop\\www.ukzn.ac.za.txt\n"
     ]
    }
   ],
   "source": [
    "RRT = [\"www.tamu.edu\", \"www.rice.edu\", \"www.ucla.edu\", \"www.gatech.edu\", \"www.unam.mx\", \"www.uh.cu\", \"www.usp.br\", \"www.iitd.ac.in\", \"www.kaist.edu\", \"www.tsinghua.edu.cn\", \"www.telecom-paristech.fr\", \"www.ukzn.ac.za\"]\n",
    "for i in range(len(RRT)) :\n",
    "    print \"tracert \" + RRT[i] + ' > Desktop\\\\' + RRT[i] + \".txt\" "
   ]
  },
  {
   "cell_type": "code",
   "execution_count": null,
   "metadata": {},
   "outputs": [],
   "source": []
  },
  {
   "cell_type": "code",
   "execution_count": null,
   "metadata": {
    "collapsed": true
   },
   "outputs": [],
   "source": []
  },
  {
   "cell_type": "code",
   "execution_count": null,
   "metadata": {
    "collapsed": true
   },
   "outputs": [],
   "source": []
  },
  {
   "cell_type": "code",
   "execution_count": null,
   "metadata": {
    "collapsed": true
   },
   "outputs": [],
   "source": []
  }
 ],
 "metadata": {
  "kernelspec": {
   "display_name": "Python 2",
   "language": "python",
   "name": "python2"
  },
  "language_info": {
   "codemirror_mode": {
    "name": "ipython",
    "version": 2
   },
   "file_extension": ".py",
   "mimetype": "text/x-python",
   "name": "python",
   "nbconvert_exporter": "python",
   "pygments_lexer": "ipython2",
   "version": "2.7.13"
  }
 },
 "nbformat": 4,
 "nbformat_minor": 2
}
